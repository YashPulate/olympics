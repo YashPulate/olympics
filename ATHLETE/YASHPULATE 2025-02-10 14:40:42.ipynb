{
 "metadata": {
  "kernelspec": {
   "display_name": "Streamlit Notebook",
   "name": "streamlit"
  },
  "lastEditStatus": {
   "notebookId": "ch2czkjdjbabw6dzfkux",
   "authorId": "6072597630512",
   "authorName": "YASHPULATE",
   "authorEmail": "yashpulate14@gmail.com",
   "sessionId": "d19b7d5a-e684-44be-8645-686b9fcef39a",
   "lastEditTime": 1739179258379
  }
 },
 "nbformat_minor": 5,
 "nbformat": 4,
 "cells": [
  {
   "cell_type": "code",
   "id": "1b833a0b-1788-4922-a157-8ef2aad8c950",
   "metadata": {
    "language": "sql",
    "name": "cell1"
   },
   "outputs": [],
   "source": "create table athletes(\nathlete_id int primary key,\nname varchar(100),\nbirthdate date ,\ncountry_id int,\nevent_id int, \nmedal varchar(10),\nolympics_year int\n);\n\ninsert into athletes (athlete_id, name, birthdate, country_id, event_id, medal, olympics_year) values\n(1, 'Usain Bolt', '1986-08-21', 1, 1, 'Gold', 2008),\n(2, 'Michael Phelps', '1985-06-30', 2, 3, 'Gold', 2008),\n(3, 'Simone Biles', '1997-03-14', 3, 5, 'Gold', 2016),\n(4, 'Carl Lewis', '1961-07-01', 1, 2, 'Silver', 1984),\n(5, 'Katie Ledecky', '1997-03-17', 2, 4, 'Silver', 2012),\n(6, 'Kohei Uchimura', '1989-01-03', 4, 5, 'Bronze', 2012),\n(7, 'Neeraj Chopra', '1997-12-24', 5, 6, 'Gold', 2020),\n(8, 'PV Sindhu', '1995-07-05', 5, 7, 'Silver', 2016),\n(9, 'Novak Djokovic', '1987-05-22', 6, 8, 'Bronze', 2008),\n(10, 'Mo Farah', '1983-03-23', 7, 9, 'Gold', 2012),\n(11, 'Aly Raisman', '1994-05-25', 3, 5, 'Silver', 2016),\n(12, 'Yohan Blake', '1989-12-26', 1, 1, 'None', 2012),\n(13, 'Sun Yang', '1991-12-01', 8, 2, 'Gold', 2016),\n(14, 'Adam Peaty', '1994-12-28', 9, 2, 'Gold', 2020),\n(15, 'Eliud Kipchoge', '1984-11-05', 10, 9, 'Gold', 2020),\n(16, 'Kevin Durant', '1988-09-29', 2, 10, 'Gold', 2016),\n(17, 'Rafael Nadal', '1986-06-03', 6, 8, 'Gold', 2008),\n(18, 'Wayde van Niekerk', '1992-07-15', 7, 11, 'Gold', 2016),\n(19, 'Genzebe Dibaba', '1991-02-08', 10, 11, 'Silver', 2016),\n(20, 'Marcell Jacobs', '1994-09-26', 1, 1, 'Gold', 2020),\n(21, 'Shelly-Ann Fraser-Pryce', '1986-12-27', 1, 1, 'Gold', 2012),\n(22, 'Hima Das', '2000-01-09', 5, 12, 'Silver', 2018),\n(23, 'Andy Murray', '1987-05-15', 6, 8, 'Gold', 2016),\n(24, 'Nathan Adrian', '1988-12-07', 2, 2, 'Bronze', 2012),\n(25, 'Ryan Lochte', '1984-08-03', 2, 2, 'Silver', 2012),\n(26, 'Dina Asher-Smith', '1995-12-04', 7, 1, 'Bronze', 2019),\n(27, 'Johannes Vetter', '1993-03-26', 4, 8, 'Silver', 2016),\n(28, 'Kento Momota', '1994-09-01', 8, 7, 'None', 2020),\n(29, 'Jessica Ennis-Hill', '1986-01-28', 9, 13, 'Gold', 2012),\n(30, 'Mariya Lasitskene', '1993-10-14', 8, 14, 'Gold', 2020);\n\nselect * from athlete;",
   "execution_count": null
  },
  {
   "cell_type": "code",
   "id": "2a351e67-cb3f-4d4c-a374-2ea40fcd4cfa",
   "metadata": {
    "language": "sql",
    "name": "cell2",
    "collapsed": false
   },
   "outputs": [],
   "source": "select * from athletes;",
   "execution_count": null
  }
 ]
}